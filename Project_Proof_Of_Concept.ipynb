{
 "cells": [
  {
   "cell_type": "markdown",
   "metadata": {},
   "source": [
    "# Wearable Data Affective State Classifier\n",
    "\n",
    "II.\t☐ Add justification for LSTM network to WESAD project:\n",
    "\n",
    "a.\t☐ Brief one line description of how algorithm works\n",
    "\n",
    "b.\t☐ Use case - Why you chose the model\n",
    "\n",
    "c.\t☐ Pros / advantages\n",
    "\n",
    "d.\t☐ Cons / Weaknesses \n",
    "\n",
    "e.\t☐ Evaluation metric \n",
    "\n",
    "f.\t☐ Mathematical assumptions\n",
    "\n",
    "g.\t☐ Hyperparameter tuning\n",
    "\n",
    "h.\t☐ Computational cost\n",
    "\n",
    "i.\t☐ Inference speed\n",
    "\n",
    "j.\t☐ Speed tradeoffs\n",
    "\n",
    "\n",
    "\n",
    "## LSTM justification\n",
    "The long short-term memory neural network is a type of neural network that in addition to the regular inputs at each node also have a recurrent input that allows the network to take time and squence into account, effectively giving them a temporal dimension.   \n",
    "\n",
    "Here I've used an LSTM for two reasons:\n",
    "\n",
    "1) The wearable data is temporal and LSTMs specialize in recognizing patterns in sequences of data.  \n",
    "2) Though many other algorithms were tested on this datset, there were no previous reports of an LSTM being tested. \n",
    "\n",
    "Advantages:\n",
    "- Handle noise and non-stationarity well\n",
    "- LSTMs generalize well (validation accuracy is higher than training accuracy)\n",
    "- LSTMs work well over many hyperparameters, i.e. there is no need for parameter tuning\n",
    "- With constant error back propagation through memory cells, LSTMs can bridge very long time lags in the data\n",
    "- LSTMs update complexity per weight and time step is essentially O(1)\n",
    "\n",
    "Disadvantages: \n",
    "- LSTMs take longer to train than other methods\n",
    "- LSTMs take more memory to train (because of higher number of parameters to fit)\n",
    "- LSTMs are easy to overfit\n",
    "- Difficult to implement dropout \n",
    "- Sensitive to random weight initializations\n",
    "\n",
    "\n",
    "## This script is divided into 3 parts:\n",
    "\n",
    "    - Data import, preprocessing and munging\n",
    "    - Data Visualization\n",
    "    - Model building training and evaluation"
   ]
  },
  {
   "cell_type": "code",
   "execution_count": 1,
   "metadata": {},
   "outputs": [],
   "source": [
    "import numpy as np\n",
    "import matplotlib.pyplot as plt\n",
    "import pandas as pd\n",
    "import importlib\n",
    "import os\n",
    "import sys\n",
    "import seaborn as sns"
   ]
  },
  {
   "cell_type": "code",
   "execution_count": 2,
   "metadata": {},
   "outputs": [
    {
     "name": "stderr",
     "output_type": "stream",
     "text": [
      "Using TensorFlow backend.\n"
     ]
    }
   ],
   "source": [
    "# Set path to python module\n",
    "module = os.path.abspath(r'C:\\Users\\micha\\Dropbox\\Data Science\\Data Incubator Application 2020\\Data-Incubator-2020-Captstone-Project-Proposal')\n",
    "sys.path.insert(0, module)\n",
    "\n",
    "from WESAD_data import WESAD_data"
   ]
  },
  {
   "cell_type": "markdown",
   "metadata": {},
   "source": [
    "# Data Import, Preprocessing and Munging"
   ]
  },
  {
   "cell_type": "code",
   "execution_count": 3,
   "metadata": {},
   "outputs": [],
   "source": [
    "# Initialize WESAD_data object instance\n",
    "AllWESADData = WESAD_data()"
   ]
  },
  {
   "cell_type": "code",
   "execution_count": 4,
   "metadata": {},
   "outputs": [
    {
     "name": "stdout",
     "output_type": "stream",
     "text": [
      "Loading data for S2\n",
      "Loading data for S3\n",
      "Loading data for S4\n",
      "Loading data for S5\n",
      "Loading data for S6\n",
      "Loading data for S7\n",
      "Loading data for S8\n",
      "Loading data for S9\n",
      "Loading data for S10\n",
      "Loading data for S11\n",
      "Loading data for S13\n",
      "Loading data for S14\n",
      "Loading data for S15\n",
      "Loading data for S16\n",
      "Loading data for S17\n"
     ]
    }
   ],
   "source": [
    "# Call .load_all() method to load all WESAD data from root directory\n",
    "AllWESADData.load_all()"
   ]
  },
  {
   "cell_type": "code",
   "execution_count": 5,
   "metadata": {},
   "outputs": [
    {
     "name": "stdout",
     "output_type": "stream",
     "text": [
      "Computing features..\n",
      "\tsubject: 2\n",
      "\tsubject: 3\n",
      "\tsubject: 4\n",
      "\tsubject: 5\n",
      "\tsubject: 6\n",
      "\tsubject: 7\n",
      "\tsubject: 8\n",
      "\tsubject: 9\n",
      "\tsubject: 10\n",
      "\tsubject: 11\n",
      "\tsubject: 13\n",
      "\tsubject: 14\n",
      "\tsubject: 15\n",
      "\tsubject: 16\n",
      "\tsubject: 17\n",
      "conputing features..\n",
      "\tsubject: 2\n",
      "\tsubject: 3\n",
      "\tsubject: 4\n",
      "\tsubject: 5\n",
      "\tsubject: 6\n",
      "\tsubject: 7\n",
      "\tsubject: 8\n",
      "\tsubject: 9\n",
      "\tsubject: 10\n",
      "\tsubject: 11\n",
      "\tsubject: 13\n",
      "\tsubject: 14\n",
      "\tsubject: 15\n",
      "\tsubject: 16\n",
      "\tsubject: 17\n",
      "conputing features..\n",
      "\tsubject: 2\n",
      "\tsubject: 3\n",
      "\tsubject: 4\n",
      "\tsubject: 5\n",
      "\tsubject: 6\n",
      "\tsubject: 7\n",
      "\tsubject: 8\n",
      "\tsubject: 9\n",
      "\tsubject: 10\n",
      "\tsubject: 11\n",
      "\tsubject: 13\n",
      "\tsubject: 14\n",
      "\tsubject: 15\n",
      "\tsubject: 16\n",
      "\tsubject: 17\n"
     ]
    }
   ],
   "source": [
    "# Access .compute_features... methods to compute features for each type of affective state\n",
    "AllWESADData.compute_features();\n",
    "AllWESADData.compute_features_stress();\n",
    "AllWESADData.compute_features_amuse();"
   ]
  },
  {
   "cell_type": "code",
   "execution_count": 6,
   "metadata": {},
   "outputs": [],
   "source": [
    "# Access the FEATURES attribute and create dataframes from these dictionaries of lists\n",
    "df_Baseline = pd.DataFrame(AllWESADData.FEATURES)\n",
    "df_Stress = pd.DataFrame(AllWESADData.STRESS_FEATURES)\n",
    "df_Amuse = pd.DataFrame(AllWESADData.AMUSE_FEATURES)\n",
    "\n",
    "# Get the dimensions of each dataframe\n",
    "rB,_ = df_Baseline.shape\n",
    "rS,_ = df_Stress.shape\n",
    "rA,_ = df_Amuse.shape"
   ]
  },
  {
   "cell_type": "code",
   "execution_count": 7,
   "metadata": {},
   "outputs": [],
   "source": [
    "# Create the target variable for model building\n",
    "y1 = [0] * rB\n",
    "y2 = [1] * rS\n",
    "y3 = [2] * rA\n",
    "\n",
    "# Assign the target variable to a new column in each dataframe\n",
    "df_Baseline['label'] = y1\n",
    "df_Stress['label'] = y2\n",
    "df_Amuse['label']   = y3"
   ]
  },
  {
   "cell_type": "code",
   "execution_count": 8,
   "metadata": {},
   "outputs": [
    {
     "data": {
      "text/plain": [
       "(121813, 16)"
      ]
     },
     "execution_count": 8,
     "metadata": {},
     "output_type": "execute_result"
    }
   ],
   "source": [
    "# Concatenate all dataframes so you have one containing data from all affective states\n",
    "df_AllData = pd.concat([df_Baseline, df_Stress, df_Amuse])\n",
    "df_AllData.shape"
   ]
  },
  {
   "cell_type": "markdown",
   "metadata": {},
   "source": [
    "# Data Visualization"
   ]
  },
  {
   "cell_type": "code",
   "execution_count": 9,
   "metadata": {},
   "outputs": [
    {
     "data": {
      "text/plain": [
       "<matplotlib.axes._subplots.AxesSubplot at 0x1a1d41b9d88>"
      ]
     },
     "execution_count": 9,
     "metadata": {},
     "output_type": "execute_result"
    },
    {
     "data": {
      "image/png": "[encoded data removed]",
      "text/plain": [
       "<Figure size 432x288 with 1 Axes>"
      ]
     },
     "metadata": {
      "needs_background": "light"
     },
     "output_type": "display_data"
    }
   ],
   "source": [
    "# Now let's visualize the accelerometer mean colored by the affective state label \n",
    "sns.scatterplot(x='a_mean',y='a_std',hue='label', data=df_AllData, palette='Accent')"
   ]
  },
  {
   "cell_type": "markdown",
   "metadata": {},
   "source": [
    "## This scatterplot shows that plotting the accelerometer mean (over all directions), against the accelerometer standard deviation (over all directions) shows a natural separation of the different affective states."
   ]
  },
  {
   "cell_type": "code",
   "execution_count": 10,
   "metadata": {},
   "outputs": [
    {
     "data": {
      "image/png": "[encoded data removed]",
      "text/plain": [
       "<Figure size 432x288 with 1 Axes>"
      ]
     },
     "metadata": {
      "needs_background": "light"
     },
     "output_type": "display_data"
    }
   ],
   "source": [
    "Base_I = df_AllData['label'] == 0\n",
    "Stress_I = df_AllData['label'] == 1\n",
    "Amuse_I = df_AllData['label'] == 2\n",
    "\n",
    "# Let's look at the histogram distributions of the accelerometer peak X frequency\n",
    "# colored by the target variable\n",
    "sns.kdeplot(df_AllData.loc[Base_I,'a_maxx'], label=\"Base\")\n",
    "sns.kdeplot(df_AllData.loc[Stress_I,'a_maxx'], label=\"Stress\")\n",
    "sns.kdeplot(df_AllData.loc[Amuse_I,'a_maxx'], label=\"Amuse\")\n",
    "plt.legend();"
   ]
  },
  {
   "cell_type": "markdown",
   "metadata": {},
   "source": [
    "## These three histograms show that the peak x frequency of the accelerometer show different distributions across the various affective states.  "
   ]
  },
  {
   "cell_type": "markdown",
   "metadata": {},
   "source": [
    "# Model building training and evaluation"
   ]
  },
  {
   "cell_type": "code",
   "execution_count": 11,
   "metadata": {},
   "outputs": [],
   "source": [
    "import sklearn\n",
    "from sklearn.preprocessing import MinMaxScaler\n",
    "from sklearn.preprocessing import LabelEncoder\n",
    "from sklearn.metrics import mean_squared_error\n",
    "from sklearn.model_selection import train_test_split\n",
    "\n",
    "import tensorflow as tf\n",
    "\n",
    "import keras\n",
    "from keras.preprocessing import sequence\n",
    "from keras.models import Sequential\n",
    "from keras.layers import Dense, Embedding, Flatten\n",
    "from keras.layers import LSTM\n",
    "from keras.utils import to_categorical\n",
    "from keras.optimizers import SGD\n",
    "\n",
    "# Create feature matrix to feed into the LSTM model\n",
    "X = df_AllData.drop('label', axis =1).values\n",
    "y = to_categorical(df_AllData['label'])\n",
    "\n",
    "# Scale the data between 0 and 1\n",
    "scaler = MinMaxScaler(feature_range=(0, 1))\n",
    "X = scaler.fit_transform(X)\n",
    "\n",
    "# Separate the data into a 75% train / 25% test split.\n",
    "X_train, X_test, y_train, y_test = \\\n",
    "    train_test_split(X, y, test_size=0.25, random_state=42)\n"
   ]
  },
  {
   "cell_type": "code",
   "execution_count": 12,
   "metadata": {},
   "outputs": [],
   "source": [
    "# Reshape the input variables to fit the expected input shape\n",
    "X_train = np.reshape(X_train, (X_train.shape[0], 1, X_train.shape[1]))\n",
    "X_test = np.reshape(X_test, (X_test.shape[0], 1, X_test.shape[1]))"
   ]
  },
  {
   "cell_type": "code",
   "execution_count": 13,
   "metadata": {},
   "outputs": [
    {
     "name": "stdout",
     "output_type": "stream",
     "text": [
      "Building the LSTM network...\n"
     ]
    }
   ],
   "source": [
    "# There will be 15 neurons in the LSTM network, one for each input.\n",
    "num_neurons = 15\n",
    "num_features = 15\n",
    "\n",
    "print('Building the LSTM network...')\n",
    "\n",
    "# Create the model instance and define the network structure\n",
    "model = Sequential()\n",
    "model.add(LSTM(num_neurons, input_shape=(1, num_features), return_sequences=True))\n",
    "model.add(LSTM(num_neurons, input_shape=(1, num_features), return_sequences=False))\n",
    "model.add(Dense(3, activation='sigmoid'))"
   ]
  },
  {
   "cell_type": "code",
   "execution_count": 14,
   "metadata": {
    "scrolled": true
   },
   "outputs": [
    {
     "name": "stdout",
     "output_type": "stream",
     "text": [
      "Model: \"sequential_1\"\n",
      "_________________________________________________________________\n",
      "Layer (type)                 Output Shape              Param #   \n",
      "=================================================================\n",
      "lstm_1 (LSTM)                (None, 1, 15)             1860      \n",
      "_________________________________________________________________\n",
      "lstm_2 (LSTM)                (None, 15)                1860      \n",
      "_________________________________________________________________\n",
      "dense_1 (Dense)              (None, 3)                 48        \n",
      "=================================================================\n",
      "Total params: 3,768\n",
      "Trainable params: 3,768\n",
      "Non-trainable params: 0\n",
      "_________________________________________________________________\n"
     ]
    }
   ],
   "source": [
    "# Let's look at a summary of the model\n",
    "model.summary()"
   ]
  },
  {
   "cell_type": "code",
   "execution_count": 15,
   "metadata": {},
   "outputs": [],
   "source": [
    "# Define the optimizer and compile model\n",
    "opt = SGD(lr=0.05)\n",
    "model.compile(loss='categorical_crossentropy', optimizer=opt, metrics=['accuracy'])"
   ]
  },
  {
   "cell_type": "code",
   "execution_count": 21,
   "metadata": {},
   "outputs": [
    {
     "name": "stdout",
     "output_type": "stream",
     "text": [
      "Training LSTM...\n",
      "Train on 91359 samples, validate on 30454 samples\n",
      "Epoch 1/2\n",
      "91359/91359 [==============================] - 30s 334us/step - loss: 0.2204 - accuracy: 0.9019 - val_loss: 0.1814 - val_accuracy: 0.9230\n",
      "Epoch 2/2\n",
      "91359/91359 [==============================] - 31s 340us/step - loss: 0.1639 - accuracy: 0.9312 - val_loss: 0.1333 - val_accuracy: 0.9487\n",
      "30454/30454 [==============================] - 2s 75us/step\n"
     ]
    }
   ],
   "source": [
    "print('Training LSTM...')\n",
    "\n",
    "batch_size = 5 # I think I want to use batch_size = 1\n",
    "\n",
    "# Now fit the model to the training data\n",
    "model.fit(X_train, y_train,\n",
    "          batch_size=batch_size,\n",
    "          epochs=1,\n",
    "          validation_data=(X_test, y_test))\n",
    "\n",
    "# Evaluate the fitted moel using the accuracy metric\n",
    "score, acc = model.evaluate(X_test, y_test, batch_size=batch_size)"
   ]
  },
  {
   "cell_type": "code",
   "execution_count": 20,
   "metadata": {},
   "outputs": [
    {
     "name": "stdout",
     "output_type": "stream",
     "text": [
      "score: 0.2576251168479635\n",
      "accuracy: 0.8820521831512451\n"
     ]
    }
   ],
   "source": [
    "print('score:', score)\n",
    "print('accuracy:', acc)"
   ]
  },
  {
   "cell_type": "markdown",
   "metadata": {},
   "source": [
    "## Here we see that with two epochs my model achieves 92% accuracy.  "
   ]
  },
  {
   "cell_type": "code",
   "execution_count": 24,
   "metadata": {},
   "outputs": [],
   "source": [
    "def get_new_model():\n",
    "\n",
    "    # Create the model instance and define the network structure\n",
    "    model = Sequential()\n",
    "    model.add(LSTM(num_neurons, input_shape=(1, num_features), return_sequences=True))\n",
    "    model.add(LSTM(num_neurons, input_shape=(1, num_features), return_sequences=False))\n",
    "    model.add(Dense(3, activation='sigmoid'))\n",
    "    \n",
    "    return model"
   ]
  },
  {
   "cell_type": "code",
   "execution_count": null,
   "metadata": {},
   "outputs": [
    {
     "name": "stdout",
     "output_type": "stream",
     "text": [
      "Training LSTM...\n",
      "\n",
      "\n",
      "Testing model with learning rate: 0.010000\n",
      "\n",
      "Train on 91359 samples, validate on 30454 samples\n",
      "Epoch 1/20\n",
      "91359/91359 [==============================] - 31s 339us/step - loss: 0.5576 - accuracy: 0.7175 - val_loss: 0.4910 - val_accuracy: 0.7823\n",
      "Epoch 2/20\n",
      "91359/91359 [==============================] - 29s 323us/step - loss: 0.4572 - accuracy: 0.7984 - val_loss: 0.3986 - val_accuracy: 0.8370\n",
      "Epoch 3/20\n",
      "91359/91359 [==============================] - 29s 323us/step - loss: 0.3527 - accuracy: 0.8472 - val_loss: 0.2966 - val_accuracy: 0.8690\n",
      "Epoch 4/20\n",
      "91359/91359 [==============================] - 31s 340us/step - loss: 0.2606 - accuracy: 0.8875 - val_loss: 0.2047 - val_accuracy: 0.9091\n",
      "Epoch 5/20\n",
      "91359/91359 [==============================] - 29s 321us/step - loss: 0.1907 - accuracy: 0.9180 - val_loss: 0.1792 - val_accuracy: 0.9228\n",
      "Epoch 6/20\n",
      "91359/91359 [==============================] - 30s 331us/step - loss: 0.1429 - accuracy: 0.9389 - val_loss: 0.1190 - val_accuracy: 0.9464\n",
      "Epoch 7/20\n",
      "91359/91359 [==============================] - 42s 461us/step - loss: 0.1066 - accuracy: 0.9593 - val_loss: 0.0879 - val_accuracy: 0.9697\n",
      "Epoch 8/20\n",
      "91359/91359 [==============================] - 53s 578us/step - loss: 0.0791 - accuracy: 0.9736 - val_loss: 0.0569 - val_accuracy: 0.9855\n",
      "Epoch 9/20\n",
      "91359/91359 [==============================] - 50s 545us/step - loss: 0.0589 - accuracy: 0.9831 - val_loss: 0.0637 - val_accuracy: 0.9789\n",
      "Epoch 10/20\n",
      "91359/91359 [==============================] - 51s 558us/step - loss: 0.0484 - accuracy: 0.9873 - val_loss: 0.0329 - val_accuracy: 0.9914\n",
      "Epoch 11/20\n",
      "91359/91359 [==============================] - 36s 396us/step - loss: 0.0379 - accuracy: 0.9900 - val_loss: 0.0323 - val_accuracy: 0.9903\n",
      "Epoch 12/20\n",
      "91359/91359 [==============================] - 31s 334us/step - loss: 0.0337 - accuracy: 0.9915 - val_loss: 0.0329 - val_accuracy: 0.9906\n",
      "Epoch 13/20\n",
      "91359/91359 [==============================] - 30s 333us/step - loss: 0.0277 - accuracy: 0.9933 - val_loss: 0.0222 - val_accuracy: 0.9948\n",
      "Epoch 14/20\n",
      "91359/91359 [==============================] - 31s 343us/step - loss: 0.0248 - accuracy: 0.9940 - val_loss: 0.0141 - val_accuracy: 0.9974\n",
      "Epoch 15/20\n",
      "91359/91359 [==============================] - 32s 345us/step - loss: 0.0197 - accuracy: 0.9951 - val_loss: 0.0203 - val_accuracy: 0.9956\n",
      "Epoch 16/20\n",
      "91359/91359 [==============================] - 30s 325us/step - loss: 0.0189 - accuracy: 0.9955 - val_loss: 0.0122 - val_accuracy: 0.9977\n",
      "Epoch 17/20\n",
      "91359/91359 [==============================] - 29s 312us/step - loss: 0.0174 - accuracy: 0.9959 - val_loss: 0.0105 - val_accuracy: 0.9982\n",
      "Epoch 18/20\n",
      "91359/91359 [==============================] - 29s 317us/step - loss: 0.0163 - accuracy: 0.9959 - val_loss: 0.0090 - val_accuracy: 0.9984\n",
      "Epoch 19/20\n",
      "91359/91359 [==============================] - 29s 315us/step - loss: 0.0141 - accuracy: 0.9965 - val_loss: 0.0088 - val_accuracy: 0.9982\n",
      "Epoch 20/20\n",
      "91359/91359 [==============================] - 29s 312us/step - loss: 0.0144 - accuracy: 0.9966 - val_loss: 0.0080 - val_accuracy: 0.9984\n",
      "30454/30454 [==============================] - 2s 75us/step\n",
      "\n",
      "\n",
      "Testing model with learning rate: 0.020000\n",
      "\n",
      "Train on 91359 samples, validate on 30454 samples\n",
      "Epoch 1/20\n",
      "91359/91359 [==============================] - 29s 317us/step - loss: 0.5554 - accuracy: 0.7205 - val_loss: 0.4895 - val_accuracy: 0.7784\n",
      "Epoch 2/20\n",
      "91359/91359 [==============================] - 29s 312us/step - loss: 0.4524 - accuracy: 0.7966 - val_loss: 0.3950 - val_accuracy: 0.8205\n",
      "Epoch 3/20\n",
      "91359/91359 [==============================] - 30s 333us/step - loss: 0.3287 - accuracy: 0.8508 - val_loss: 0.2679 - val_accuracy: 0.8740\n",
      "Epoch 4/20\n",
      "91359/91359 [==============================] - 32s 352us/step - loss: 0.2620 - accuracy: 0.8768 - val_loss: 0.2276 - val_accuracy: 0.8983\n",
      "Epoch 5/20\n",
      "91359/91359 [==============================] - 45s 496us/step - loss: 0.2266 - accuracy: 0.9015 - val_loss: 0.1996 - val_accuracy: 0.9189\n",
      "Epoch 6/20\n",
      "91359/91359 [==============================] - 31s 342us/step - loss: 0.1815 - accuracy: 0.9280 - val_loss: 0.1694 - val_accuracy: 0.9354\n",
      "Epoch 7/20\n",
      "91359/91359 [==============================] - 29s 321us/step - loss: 0.1304 - accuracy: 0.9524 - val_loss: 0.1107 - val_accuracy: 0.9593\n",
      "Epoch 8/20\n",
      "91359/91359 [==============================] - 28s 311us/step - loss: 0.0926 - accuracy: 0.9665 - val_loss: 0.0695 - val_accuracy: 0.9764\n",
      "Epoch 9/20\n",
      "91359/91359 [==============================] - 28s 310us/step - loss: 0.0655 - accuracy: 0.9788 - val_loss: 0.0441 - val_accuracy: 0.9902\n",
      "Epoch 10/20\n",
      "91359/91359 [==============================] - 28s 310us/step - loss: 0.0461 - accuracy: 0.9871 - val_loss: 0.0509 - val_accuracy: 0.9801\n",
      "Epoch 11/20\n",
      "91359/91359 [==============================] - 28s 308us/step - loss: 0.0355 - accuracy: 0.9909 - val_loss: 0.0334 - val_accuracy: 0.9914\n",
      "Epoch 12/20\n",
      "91359/91359 [==============================] - 28s 309us/step - loss: 0.0290 - accuracy: 0.9926 - val_loss: 0.0200 - val_accuracy: 0.9968\n",
      "Epoch 13/20\n",
      "91359/91359 [==============================] - 28s 310us/step - loss: 0.0252 - accuracy: 0.9939 - val_loss: 0.0197 - val_accuracy: 0.9957\n",
      "Epoch 14/20\n",
      "91359/91359 [==============================] - 28s 311us/step - loss: 0.0195 - accuracy: 0.9956 - val_loss: 0.0118 - val_accuracy: 0.9985\n",
      "Epoch 15/20\n",
      "91359/91359 [==============================] - 28s 310us/step - loss: 0.0177 - accuracy: 0.9960 - val_loss: 0.0108 - val_accuracy: 0.9990\n",
      "Epoch 16/20\n",
      "91359/91359 [==============================] - 29s 319us/step - loss: 0.0154 - accuracy: 0.9965 - val_loss: 0.0161 - val_accuracy: 0.9957\n",
      "Epoch 17/20\n",
      "91359/91359 [==============================] - 28s 310us/step - loss: 0.0127 - accuracy: 0.9975 - val_loss: 0.0076 - val_accuracy: 0.9993\n",
      "Epoch 18/20\n",
      "91359/91359 [==============================] - 28s 310us/step - loss: 0.0111 - accuracy: 0.9977 - val_loss: 0.0057 - val_accuracy: 0.9998\n",
      "Epoch 19/20\n",
      "91359/91359 [==============================] - 28s 309us/step - loss: 0.0101 - accuracy: 0.9979 - val_loss: 0.0051 - val_accuracy: 0.9997\n",
      "Epoch 20/20\n",
      "91359/91359 [==============================] - 28s 309us/step - loss: 0.0097 - accuracy: 0.9981 - val_loss: 0.0049 - val_accuracy: 0.9997\n",
      "30454/30454 [==============================] - 2s 73us/step\n",
      "\n",
      "\n",
      "Testing model with learning rate: 0.030000\n",
      "\n",
      "Train on 91359 samples, validate on 30454 samples\n",
      "Epoch 1/20\n",
      "91359/91359 [==============================] - 29s 314us/step - loss: 0.5571 - accuracy: 0.7179 - val_loss: 0.4943 - val_accuracy: 0.7805\n",
      "Epoch 2/20\n",
      "91359/91359 [==============================] - 28s 307us/step - loss: 0.4708 - accuracy: 0.7902 - val_loss: 0.4416 - val_accuracy: 0.8168\n",
      "Epoch 3/20\n",
      "91359/91359 [==============================] - 29s 315us/step - loss: 0.3826 - accuracy: 0.8336 - val_loss: 0.3362 - val_accuracy: 0.8406\n",
      "Epoch 4/20\n",
      "91359/91359 [==============================] - 34s 367us/step - loss: 0.2678 - accuracy: 0.8860 - val_loss: 0.2436 - val_accuracy: 0.8936\n",
      "Epoch 5/20\n",
      "91359/91359 [==============================] - 32s 347us/step - loss: 0.2059 - accuracy: 0.9142 - val_loss: 0.2093 - val_accuracy: 0.9061\n",
      "Epoch 6/20\n",
      "91359/91359 [==============================] - 34s 371us/step - loss: 0.1568 - accuracy: 0.9306 - val_loss: 0.1156 - val_accuracy: 0.9475\n",
      "Epoch 7/20\n",
      "91359/91359 [==============================] - 38s 420us/step - loss: 0.1097 - accuracy: 0.9577 - val_loss: 0.0778 - val_accuracy: 0.9728\n",
      "Epoch 8/20\n",
      "91359/91359 [==============================] - 32s 351us/step - loss: 0.0787 - accuracy: 0.9725 - val_loss: 0.0558 - val_accuracy: 0.9832\n",
      "Epoch 9/20\n",
      "91359/91359 [==============================] - 31s 342us/step - loss: 0.0597 - accuracy: 0.9812 - val_loss: 0.0407 - val_accuracy: 0.9875\n",
      "Epoch 10/20\n",
      "91359/91359 [==============================] - 29s 314us/step - loss: 0.0481 - accuracy: 0.9853 - val_loss: 0.0383 - val_accuracy: 0.9869\n",
      "Epoch 11/20\n",
      "91359/91359 [==============================] - 28s 310us/step - loss: 0.0404 - accuracy: 0.9877 - val_loss: 0.0304 - val_accuracy: 0.9931\n",
      "Epoch 12/20\n",
      "91359/91359 [==============================] - 33s 358us/step - loss: 0.0359 - accuracy: 0.9894 - val_loss: 0.0291 - val_accuracy: 0.9917\n",
      "Epoch 13/20\n",
      "91359/91359 [==============================] - 30s 327us/step - loss: 0.0304 - accuracy: 0.9914 - val_loss: 0.0177 - val_accuracy: 0.9965\n",
      "Epoch 14/20\n",
      "91359/91359 [==============================] - 31s 337us/step - loss: 0.0247 - accuracy: 0.9931 - val_loss: 0.0203 - val_accuracy: 0.9946\n",
      "Epoch 15/20\n",
      "91359/91359 [==============================] - 31s 338us/step - loss: 0.0219 - accuracy: 0.9942 - val_loss: 0.0133 - val_accuracy: 0.9975\n",
      "Epoch 16/20\n",
      "91359/91359 [==============================] - 33s 363us/step - loss: 0.0194 - accuracy: 0.9949 - val_loss: 0.0123 - val_accuracy: 0.9985\n",
      "Epoch 17/20\n",
      "91359/91359 [==============================] - 34s 368us/step - loss: 0.0159 - accuracy: 0.9960 - val_loss: 0.0102 - val_accuracy: 0.9980\n",
      "Epoch 18/20\n",
      "91359/91359 [==============================] - 33s 356us/step - loss: 0.0146 - accuracy: 0.9963 - val_loss: 0.0127 - val_accuracy: 0.9967\n",
      "Epoch 19/20\n",
      "91359/91359 [==============================] - 31s 336us/step - loss: 0.0137 - accuracy: 0.9965 - val_loss: 0.0074 - val_accuracy: 0.9987\n",
      "Epoch 20/20\n",
      "91359/91359 [==============================] - 30s 333us/step - loss: 0.0131 - accuracy: 0.9968 - val_loss: 0.0069 - val_accuracy: 0.9987\n",
      "30454/30454 [==============================] - 3s 97us/step\n",
      "\n",
      "\n",
      "Testing model with learning rate: 0.040000\n",
      "\n",
      "Train on 91359 samples, validate on 30454 samples\n",
      "Epoch 1/20\n",
      "91359/91359 [==============================] - 32s 345us/step - loss: 0.5526 - accuracy: 0.7223 - val_loss: 0.4885 - val_accuracy: 0.7860\n",
      "Epoch 2/20\n",
      "91359/91359 [==============================] - 35s 384us/step - loss: 0.4518 - accuracy: 0.8038 - val_loss: 0.4241 - val_accuracy: 0.8109\n",
      "Epoch 3/20\n",
      "91359/91359 [==============================] - 39s 427us/step - loss: 0.3476 - accuracy: 0.8520 - val_loss: 0.2791 - val_accuracy: 0.8882\n",
      "Epoch 4/20\n",
      "91359/91359 [==============================] - 37s 409us/step - loss: 0.2401 - accuracy: 0.8960 - val_loss: 0.1985 - val_accuracy: 0.9187\n",
      "Epoch 5/20\n",
      " 4300/91359 [>.............................] - ETA: 30s - loss: 0.1943 - accuracy: 0.9188"
     ]
    }
   ],
   "source": [
    "# Import EarlyStopping\n",
    "from keras.callbacks import EarlyStopping\n",
    "\n",
    "# Learning rates to iterate over\n",
    "lr_to_test = np.arange(0.01,0.1,0.01)\n",
    "\n",
    "# Define early_stopping_monitor\n",
    "early_stopping_monitor = EarlyStopping(patience=2)\n",
    "\n",
    "# Initialize the variables recording score, accuracy and Stop_epoch\n",
    "score = np.zeros(len(lr_to_test))\n",
    "acc = np.zeros(len(lr_to_test))\n",
    "Stop_epoch = np.zeros(len(lr_to_test))\n",
    "\n",
    "print('Training LSTM...')\n",
    "\n",
    "batch_size = 5 # I think I want to use batch_size = 1\n",
    "\n",
    "# Loop over learning rates\n",
    "for i, lr in enumerate(lr_to_test):\n",
    "    print('\\n\\nTesting model with learning rate: %f\\n'%lr )\n",
    "    \n",
    "    # Build new model to test, unaffected by previous models\n",
    "    model = get_new_model()\n",
    "    \n",
    "    # Create SGD optimizer with specified learning rate: my_optimizer\n",
    "    my_optimizer = SGD(lr=lr)\n",
    "    \n",
    "    # Compile the model\n",
    "    model.compile(loss='binary_crossentropy', optimizer=opt, metrics=['accuracy'])\n",
    "    \n",
    "    # Now fit the model to the training data\n",
    "    model.fit(X_train, y_train,\n",
    "          batch_size=batch_size,\n",
    "          epochs=20,\n",
    "          validation_data=(X_test, y_test),\n",
    "          callbacks=[early_stopping_monitor])\n",
    "    \n",
    "    # For each learning rate, evaluate the fitted model using the accuracy metric\n",
    "    score[i], acc[i] = model.evaluate(X_test, y_test, batch_size=batch_size)\n",
    "    \n",
    "    # For each learning rate, record the epoch where training was stopped\n",
    "    Stop_epoch[i] = early_stopping_monitor.stopped_epoch"
   ]
  },
  {
   "cell_type": "code",
   "execution_count": null,
   "metadata": {},
   "outputs": [],
   "source": []
  },
  {
   "cell_type": "code",
   "execution_count": null,
   "metadata": {},
   "outputs": [],
   "source": []
  },
  {
   "cell_type": "code",
   "execution_count": 18,
   "metadata": {},
   "outputs": [],
   "source": [
    "\n",
    "# sns.pairplot(df_AllData,\n",
    "#              kind=\"scatter\", \n",
    "#              hue='label')"
   ]
  }
 ],
 "metadata": {
  "kernelspec": {
   "display_name": "Python 3",
   "language": "python",
   "name": "python3"
  },
  "language_info": {
   "codemirror_mode": {
    "name": "ipython",
    "version": 3
   },
   "file_extension": ".py",
   "mimetype": "text/x-python",
   "name": "python",
   "nbconvert_exporter": "python",
   "pygments_lexer": "ipython3",
   "version": "3.7.4"
  }
 },
 "nbformat": 4,
 "nbformat_minor": 2
}
